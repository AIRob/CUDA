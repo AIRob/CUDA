{
 "cells": [
  {
   "cell_type": "markdown",
   "metadata": {},
   "source": [
    "# SAXPY Example"
   ]
  },
  {
   "cell_type": "markdown",
   "metadata": {},
   "source": [
    "$$ y = ax + y $$\n",
    "위 연산에 대하여 벡터 계산"
   ]
  },
  {
   "cell_type": "markdown",
   "metadata": {},
   "source": [
    "## CPU Version"
   ]
  },
  {
   "cell_type": "code",
   "execution_count": 1,
   "metadata": {
    "collapsed": false
   },
   "outputs": [
    {
     "name": "stdout",
     "output_type": "stream",
     "text": [
      "Writing saxpy_cpu.cc\n"
     ]
    }
   ],
   "source": [
    "%%file saxpy_cpu.cc\n",
    "\n",
    "#include <stdio.h>\n",
    "#include <stdlib.h>\n",
    "\n",
    "float* get_vector(int n_size, float seed) {\n",
    "    // buffer create\n",
    "    float* p_vector = (float*)malloc(n_size * sizeof(float));\n",
    "    \n",
    "    // initialize vector\n",
    "    for (int i = 0; i < n_size; i++) {\n",
    "        p_vector[i] = seed * i;\n",
    "    }\n",
    "    \n",
    "    return p_vector;\n",
    "}\n",
    "\n",
    "void print_vector(float* p_vector, int n_size) {\n",
    "    for (int j = 0; j < n_size / 10; j++) {\n",
    "        for (int i = 0; i < 10; i++) {\n",
    "            printf(\"%3.2f \", p_vector[10*j + i]);\n",
    "        }\n",
    "        printf(\"\\n\");\n",
    "    }\n",
    "}\n",
    "\n",
    "// y = ax + y 연산\n",
    "void saxpy(float* py, float* px, float alpha, int n_size) {\n",
    "    for (int i = 0; i < n_size; i++) {\n",
    "        py[i] = alpha * px[i] + py[i];\n",
    "    }\n",
    "}\n",
    "\n",
    "int main() {\n",
    "    float *px, *py;\n",
    "    int n_size = 65536;\n",
    "    \n",
    "    px = get_vector(n_size, 0.01);\n",
    "    py = get_vector(n_size, 0.05);\n",
    "    \n",
    "    printf(\"X\\n\");\n",
    "    print_vector(px, 100);\n",
    "    printf(\"Y\\n\");\n",
    "    print_vector(py, 100);\n",
    "    \n",
    "    saxpy(py, px, 2.0, n_size);\n",
    "    \n",
    "    printf(\"saxpy:: y = ax + y\\n\");\n",
    "    print_vector(py, 100);\n",
    "    \n",
    "    free(px);\n",
    "    free(py);\n",
    "    \n",
    "    return 0;\n",
    "}\n"
   ]
  },
  {
   "cell_type": "markdown",
   "metadata": {},
   "source": [
    "### Compile 및 실행"
   ]
  },
  {
   "cell_type": "code",
   "execution_count": 2,
   "metadata": {
    "collapsed": false,
    "scrolled": false
   },
   "outputs": [
    {
     "name": "stdout",
     "output_type": "stream",
     "text": [
      "gcc -Wall -c saxpy_cpu.cc\n",
      "gcc saxpy_cpu.o -o saxpy_cpu\n",
      "X\n",
      "0.00 0.01 0.02 0.03 0.04 0.05 0.06 0.07 0.08 0.09 \n",
      "0.10 0.11 0.12 0.13 0.14 0.15 0.16 0.17 0.18 0.19 \n",
      "0.20 0.21 0.22 0.23 0.24 0.25 0.26 0.27 0.28 0.29 \n",
      "0.30 0.31 0.32 0.33 0.34 0.35 0.36 0.37 0.38 0.39 \n",
      "0.40 0.41 0.42 0.43 0.44 0.45 0.46 0.47 0.48 0.49 \n",
      "0.50 0.51 0.52 0.53 0.54 0.55 0.56 0.57 0.58 0.59 \n",
      "0.60 0.61 0.62 0.63 0.64 0.65 0.66 0.67 0.68 0.69 \n",
      "0.70 0.71 0.72 0.73 0.74 0.75 0.76 0.77 0.78 0.79 \n",
      "0.80 0.81 0.82 0.83 0.84 0.85 0.86 0.87 0.88 0.89 \n",
      "0.90 0.91 0.92 0.93 0.94 0.95 0.96 0.97 0.98 0.99 \n",
      "Y\n",
      "0.00 0.05 0.10 0.15 0.20 0.25 0.30 0.35 0.40 0.45 \n",
      "0.50 0.55 0.60 0.65 0.70 0.75 0.80 0.85 0.90 0.95 \n",
      "1.00 1.05 1.10 1.15 1.20 1.25 1.30 1.35 1.40 1.45 \n",
      "1.50 1.55 1.60 1.65 1.70 1.75 1.80 1.85 1.90 1.95 \n",
      "2.00 2.05 2.10 2.15 2.20 2.25 2.30 2.35 2.40 2.45 \n",
      "2.50 2.55 2.60 2.65 2.70 2.75 2.80 2.85 2.90 2.95 \n",
      "3.00 3.05 3.10 3.15 3.20 3.25 3.30 3.35 3.40 3.45 \n",
      "3.50 3.55 3.60 3.65 3.70 3.75 3.80 3.85 3.90 3.95 \n",
      "4.00 4.05 4.10 4.15 4.20 4.25 4.30 4.35 4.40 4.45 \n",
      "4.50 4.55 4.60 4.65 4.70 4.75 4.80 4.85 4.90 4.95 \n",
      "saxpy:: y = ax + y\n",
      "0.00 0.07 0.14 0.21 0.28 0.35 0.42 0.49 0.56 0.63 \n",
      "0.70 0.77 0.84 0.91 0.98 1.05 1.12 1.19 1.26 1.33 \n",
      "1.40 1.47 1.54 1.61 1.68 1.75 1.82 1.89 1.96 2.03 \n",
      "2.10 2.17 2.24 2.31 2.38 2.45 2.52 2.59 2.66 2.73 \n",
      "2.80 2.87 2.94 3.01 3.08 3.15 3.22 3.29 3.36 3.43 \n",
      "3.50 3.57 3.64 3.71 3.78 3.85 3.92 3.99 4.06 4.13 \n",
      "4.20 4.27 4.34 4.41 4.48 4.55 4.62 4.69 4.76 4.83 \n",
      "4.90 4.97 5.04 5.11 5.18 5.25 5.32 5.39 5.46 5.53 \n",
      "5.60 5.67 5.74 5.81 5.88 5.95 6.02 6.09 6.16 6.23 \n",
      "6.30 6.37 6.44 6.51 6.58 6.65 6.72 6.79 6.86 6.93 \n"
     ]
    }
   ],
   "source": [
    "! make cpu\n",
    "! ./saxpy_cpu"
   ]
  },
  {
   "cell_type": "markdown",
   "metadata": {
    "collapsed": true
   },
   "source": [
    "## GPU Version"
   ]
  },
  {
   "cell_type": "code",
   "execution_count": 3,
   "metadata": {
    "collapsed": false
   },
   "outputs": [
    {
     "name": "stdout",
     "output_type": "stream",
     "text": [
      "Writing saxpy_gpu.cu\n"
     ]
    }
   ],
   "source": [
    "%%file saxpy_gpu.cu\n",
    "\n",
    "#include <stdio.h>\n",
    "#include <stdlib.h>\n",
    "#include <cuda.h>\n",
    "\n",
    "float* get_vector(int n_size, float seed = 0.0) {\n",
    "    // buffer create\n",
    "    float* p_vector = (float*)malloc(n_size * sizeof(float));\n",
    "    \n",
    "    // initialize vector\n",
    "    if (seed != 0.0) {\n",
    "        for (int i = 0; i < n_size; i++) {\n",
    "            p_vector[i] = seed * i;\n",
    "        }\n",
    "    }\n",
    "    \n",
    "    return p_vector;\n",
    "}\n",
    "\n",
    "void check_result(float* py, float* py_cuda, int n_size) {\n",
    "    float compare = 0.0;\n",
    "    for (int i = 0; i < n_size; i++) {\n",
    "        compare += py[i] - py_cuda[i];\n",
    "    }\n",
    "    printf(\"Result: %f\\n\", compare);\n",
    "}\n",
    "\n",
    "// CPU 연산\n",
    "void saxpy(float* py, float* px, float alpha, int n_size) {\n",
    "    for (int i = 0; i < n_size; i++) {\n",
    "        py[i] = alpha * px[i] + py[i];\n",
    "    }\n",
    "}\n",
    "\n",
    "// CUDA Kernel function\n",
    "__global__ \n",
    "void d_saxpy(float* d_y, float* d_x, float alpha, int n_size) {\n",
    "    int idx = blockDim.x * blockIdx.x + threadIdx.x;\n",
    "    \n",
    "    d_y[idx] = alpha * d_x[idx] + d_y[idx];\n",
    "}\n",
    "\n",
    "int main() {\n",
    "    float *px, *py, *py_cuda;\n",
    "    int n_size = 65536;\n",
    "    \n",
    "    px = get_vector(n_size, 0.01);\n",
    "    py = get_vector(n_size, 0.05);\n",
    "    py_cuda = get_vector(n_size);\n",
    "    \n",
    "    // Step 1. Create GPU memory\n",
    "    float *d_x, *d_y;\n",
    "    cudaMalloc((void**)&d_x, n_size * sizeof(float));\n",
    "    cudaMalloc((void**)&d_y, n_size * sizeof(float));\n",
    "    \n",
    "    // Step 2. Copy to GPU memory\n",
    "    cudaMemcpy(d_x, px, n_size * sizeof(float), cudaMemcpyHostToDevice);\n",
    "    cudaMemcpy(d_y, py, n_size * sizeof(float), cudaMemcpyHostToDevice);\n",
    "    \n",
    "    // Step 3. Kernel Call\n",
    "    saxpy(py, px, 2.0, n_size);\n",
    "    \n",
    "    dim3 blockDim(16);\n",
    "    dim3 gridDim((n_size + blockDim.x - 1) / blockDim.x);\n",
    "    d_saxpy<<< gridDim, blockDim >>>(d_y, d_x, 2.0, n_size);\n",
    "\n",
    "    // Step 4. Copy from GPU\n",
    "    cudaMemcpy(py_cuda, d_y, n_size * sizeof(float), cudaMemcpyDeviceToHost);\n",
    "\n",
    "    // Step 5. Check Result\n",
    "    check_result(py, py_cuda, n_size);\n",
    "    \n",
    "    // Step 6. Finalize GPU memory\n",
    "    cudaFree(d_x);\n",
    "    cudaFree(d_y);\n",
    "    \n",
    "    free(px);\n",
    "    free(py);\n",
    "    free(py_cuda);\n",
    "    \n",
    "    return 0;\n",
    "}\n"
   ]
  },
  {
   "cell_type": "markdown",
   "metadata": {},
   "source": [
    "### Compile 및 실행"
   ]
  },
  {
   "cell_type": "code",
   "execution_count": 4,
   "metadata": {
    "collapsed": false
   },
   "outputs": [
    {
     "name": "stdout",
     "output_type": "stream",
     "text": [
      "nvcc -c saxpy_gpu.cu\n",
      "nvcc saxpy_gpu.o -o saxpy_gpu\n",
      "Result: 0.000000\n"
     ]
    }
   ],
   "source": [
    "! make gpu\n",
    "! ./saxpy_gpu"
   ]
  },
  {
   "cell_type": "markdown",
   "metadata": {},
   "source": [
    "## SAXPY 2D"
   ]
  },
  {
   "cell_type": "code",
   "execution_count": 5,
   "metadata": {
    "collapsed": false
   },
   "outputs": [
    {
     "name": "stdout",
     "output_type": "stream",
     "text": [
      "Writing saxpy_gpu_2d.cu\n"
     ]
    }
   ],
   "source": [
    "%%file saxpy_gpu_2d.cu\n",
    "\n",
    "#include <stdio.h>\n",
    "#include <stdlib.h>\n",
    "#include <cuda.h>\n",
    "\n",
    "float* get_buffer(int n_size, float seed = 0.0) {\n",
    "    // buffer create\n",
    "    float* p_vector = (float*)malloc(n_size * sizeof(float));\n",
    "    \n",
    "    // initialize vector\n",
    "    if (seed != 0.0) {\n",
    "        for (int i = 0; i < n_size; i++) {\n",
    "            p_vector[i] = seed * i;\n",
    "        }\n",
    "    }\n",
    "    \n",
    "    return p_vector;\n",
    "}\n",
    "\n",
    "void print_buffer(float* p_buffer, int n_size) {\n",
    "    for (int j = 0; j < n_size / 10; j++) {\n",
    "        for (int i = 0; i < 10; i++) {\n",
    "            printf(\"%3.2f \", p_buffer[10*j + i]);\n",
    "        }\n",
    "        printf(\"\\n\");\n",
    "    }\n",
    "}\n",
    "\n",
    "void check_result(float* py, float* py_cuda, int n_width, int n_height) {\n",
    "    float compare = 0.0;\n",
    "    for (int j = 0; j < n_width; j++) {\n",
    "        for (int i = 0; i < n_height; i++) {\n",
    "            compare += py[j * n_width + i] - py_cuda[j * n_width + i];\n",
    "        }\n",
    "    }\n",
    "    printf(\"Result: %f\\n\", compare);\n",
    "}\n",
    "\n",
    "/* CPU function */\n",
    "void saxpy(float* py, float* px, float alpha, int n_width, int n_height) {\n",
    "    for (int j = 0; j < n_height; j++) {\n",
    "        for (int i = 0; i < n_width; i++) {\n",
    "            py[n_height * j + i] = alpha * px[n_height * j + i] + py[n_height * j + i];\n",
    "        }\n",
    "    }\n",
    "}\n",
    "\n",
    "/* CUDA Kernel function */\n",
    "__global__ \n",
    "void d_saxpy(float* d_y, float* d_x, float alpha, int n_width, int n_height) {\n",
    "    int idx_x = blockDim.x * blockIdx.x + threadIdx.x; \n",
    "    int idx_y = blockDim.y * blockIdx.y + threadIdx.y;\n",
    "    \n",
    "    int idx = n_width * idx_y + idx_x;\n",
    "\n",
    "    d_y[idx] = alpha * d_x[idx] + d_y[idx];\n",
    "}\n",
    "\n",
    "int main() {\n",
    "    float *px, *py, *py_cuda;\n",
    "    int n_width = 256;\n",
    "    int n_height = 256;\n",
    "    \n",
    "    px = get_buffer(n_width * n_height, 0.01);\n",
    "    py = get_buffer(n_width * n_height, 0.05);\n",
    "    py_cuda = get_buffer(n_width * n_height);\n",
    "        \n",
    "    // Step 1. Create GPU memory\n",
    "    float *d_x, *d_y;\n",
    "    cudaMalloc((void**)&d_x, n_width * n_height * sizeof(float));\n",
    "    cudaMalloc((void**)&d_y, n_width * n_height * sizeof(float));\n",
    "    \n",
    "    // Step 2. Copy to GPU memory\n",
    "    cudaMemcpy(d_x, px, n_width * n_height * sizeof(float), cudaMemcpyHostToDevice);\n",
    "    cudaMemcpy(d_y, py, n_width * n_height * sizeof(float), cudaMemcpyHostToDevice);\n",
    "    \n",
    "    // Step 3. Kernel Call\n",
    "    saxpy(py, px, 2.0, n_width, n_height);\n",
    "    \n",
    "    dim3 blockDim(256);\n",
    "    dim3 gridDim((n_width * n_height + blockDim.x - 1) / blockDim.x);\n",
    "    d_saxpy<<< gridDim, blockDim >>>(d_y, d_x, 2.0, n_width, n_height);\n",
    "\n",
    "    // Step 4. Copy from GPU\n",
    "    cudaMemcpy(py_cuda, d_y, n_width * n_height * sizeof(float), cudaMemcpyDeviceToHost);\n",
    "\n",
    "    // Step 5. Compare CPU & GPU result\n",
    "    check_result(py, py_cuda, n_width, n_height);\n",
    "    \n",
    "    // Step 6. Finalize GPU memory\n",
    "    cudaFree(d_x);\n",
    "    cudaFree(d_y);\n",
    "    \n",
    "    free(px);\n",
    "    free(py);\n",
    "    free(py_cuda);\n",
    "    \n",
    "    return 0;\n",
    "}\n"
   ]
  },
  {
   "cell_type": "markdown",
   "metadata": {},
   "source": [
    "### Compile 및 실행"
   ]
  },
  {
   "cell_type": "code",
   "execution_count": 6,
   "metadata": {
    "collapsed": false
   },
   "outputs": [
    {
     "name": "stdout",
     "output_type": "stream",
     "text": [
      "nvcc -c saxpy_gpu_2d.cu\n",
      "nvcc saxpy_gpu_2d.o -o saxpy_gpu_2d\n",
      "Result: 0.000000\n"
     ]
    }
   ],
   "source": [
    "! make gpu_2d\n",
    "! ./saxpy_gpu_2d"
   ]
  }
 ],
 "metadata": {
  "kernelspec": {
   "display_name": "Python 2",
   "language": "python",
   "name": "python2"
  },
  "language_info": {
   "codemirror_mode": {
    "name": "ipython",
    "version": 2
   },
   "file_extension": ".py",
   "mimetype": "text/x-python",
   "name": "python",
   "nbconvert_exporter": "python",
   "pygments_lexer": "ipython2",
   "version": "2.7.12"
  }
 },
 "nbformat": 4,
 "nbformat_minor": 0
}
