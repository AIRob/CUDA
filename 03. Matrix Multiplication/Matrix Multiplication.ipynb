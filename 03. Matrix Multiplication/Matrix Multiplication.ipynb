{
 "cells": [
  {
   "cell_type": "markdown",
   "metadata": {},
   "source": [
    "# Naive Matrix Multiplication\n",
    "\n",
    "CUDA을 활용한 Matrix multiplication 실습을 진행합니다.\n",
    "앞서 다룬 **Parallel Communicaion Pattern**을 참고(maping, transpose 등)하시고 작성하시면 됩니다.\n",
    "\n",
    "matrix multiplication의 개념은 아래 그림과 같습니다.\n",
    "![](http://docs.nvidia.com/cuda/cuda-c-programming-guide/graphics/matrix-multiplication-without-shared-memory.png)\n",
    "\n",
    "즉, matrix A는 순서대로, matrix B는 transpose 된 형태로 읽어들여서 곱셈 후 적절한 위치에 저장을 해주시면 됩니다."
   ]
  },
  {
   "cell_type": "code",
   "execution_count": 1,
   "metadata": {
    "collapsed": false
   },
   "outputs": [
    {
     "name": "stdout",
     "output_type": "stream",
     "text": [
      "Overwriting matrix_multiplication.cu\n"
     ]
    }
   ],
   "source": [
    "%%file matrix_multiplication.cu\n",
    "\n",
    "#include <stdio.h>\n",
    "#include \"matrix_multiplication.h\"\n",
    "#include \"util.h\"\n",
    "\n",
    "__global__\n",
    "void d_matrix_multiplication(Matrix C, Matrix A, Matrix B) {\n",
    "    // TODO\n",
    "    // Matrix Multiplication 연산 GPU 코드를 작성하세요.\n",
    "    // 필요하다면 matrix_multiplication_host.cc 파일을 참고하세요.\n",
    "    \n",
    "}\n",
    "\n",
    "void matrix_multiplication(Matrix &C, Matrix A, Matrix B) {\n",
    "    int size;\n",
    "    \n",
    "    ////////////////////////////////\n",
    "    // CUDA Event Create to estimate elased time\n",
    "    cudaEvent_t start, stop;\n",
    "    cudaEventCreate(&start);\n",
    "    cudaEventCreate(&stop);\n",
    "    \n",
    "    // CUDA Operation\n",
    "    cudaEventRecord(start, 0);\n",
    "    /////////////////////////////////\n",
    "    \n",
    "    // Create GPU memory\n",
    "    Matrix d_A;\n",
    "    d_A.width = A.width; d_A.height = A.height;\n",
    "    size = A.width * A.height * sizeof(int);\n",
    "    cudaMalloc((void**)&d_A.elements, size);\n",
    "    cudaMemcpy(d_A.elements, A.elements, size, cudaMemcpyHostToDevice);\n",
    "    \n",
    "    Matrix d_B;\n",
    "    d_B.width = B.width; d_B.height = B.height;\n",
    "    size = B.width * B.height * sizeof(int);\n",
    "    cudaMalloc((void**)&d_B.elements, size);\n",
    "    cudaMemcpy(d_B.elements, B.elements, size, cudaMemcpyHostToDevice);\n",
    "    \n",
    "    Matrix d_C;\n",
    "    d_C.height = C.height; d_C.width = C.width;\n",
    "    size = C.width * C.height * sizeof(int);\n",
    "    cudaMalloc((void**)&d_C.elements, size);\n",
    "    \n",
    "    // Kernel launch\n",
    "    // TODO: call CUDA Kernel\n",
    "    dim3 blockDim(16, 16);\n",
    "    dim3 gridDim((d_C.width + blockDim.x - 1) / blockDim.x, (d_C.height + blockDim.y - 1) / blockDim.y);\n",
    "    ...\n",
    "\n",
    "    cudaMemcpy(C.elements, d_C.elements, size, cudaMemcpyDeviceToHost);\n",
    "    \n",
    "    cudaFree(d_A.elements);\n",
    "    cudaFree(d_B.elements);\n",
    "    cudaFree(d_C.elements);\n",
    "    \n",
    "    /////////////////////////////////\n",
    "    // Estimate CUDA operation time\n",
    "    cudaEventRecord(stop, 0);\n",
    "    cudaEventSynchronize(stop);\n",
    "    float elapsedTime;\n",
    "    cudaEventElapsedTime(&elapsedTime, start, stop);\n",
    "    printf(\"CUDA Elapsed time: %f ms\\n\", elapsedTime);\n",
    "    \n",
    "    // finalize CUDA event\n",
    "    cudaEventDestroy(start);\n",
    "    cudaEventDestroy(stop);\n",
    "    /////////////////////////////////\n",
    "}\n",
    "\n",
    "int main() {\n",
    "    int width_a = 256;\n",
    "    int height_a = 128;\n",
    "    int height_b = 256;\n",
    "    int width_b = height_a;\n",
    "    \n",
    "    Matrix A, B, C, C_cuda;\n",
    "    \n",
    "    init_matrix(&A, width_a, height_a, 1);\n",
    "    init_matrix(&B, width_b, height_b, 2);\n",
    "    init_matrix(&C, A.height, B.width, 0);\n",
    "    init_matrix(&C_cuda, A.height, B.width, 0);\n",
    "    \n",
    "    // Matrix Multiplication\n",
    "    matrix_multiplication(C_cuda, A, B);\n",
    "    matrix_multiplication_host(C, A, B);\n",
    "    \n",
    "    // Check results\n",
    "    check_result(C, C_cuda);\n",
    "    \n",
    "    free(A.elements);\n",
    "    free(B.elements);\n",
    "    free(C.elements);\n",
    "    free(C_cuda.elements);\n",
    "     \n",
    "    return 0;\n",
    "}"
   ]
  },
  {
   "cell_type": "code",
   "execution_count": 2,
   "metadata": {
    "collapsed": false,
    "scrolled": false
   },
   "outputs": [
    {
     "name": "stdout",
     "output_type": "stream",
     "text": [
      "nvcc -c matrix_multiplication.cu\n",
      "matrix_multiplication.cu(49): error: expected an expression\n",
      "\n",
      "1 error detected in the compilation of \"/tmp/tmpxft_000063ae_00000000-7_matrix_multiplication.cpp1.ii\".\n",
      "Makefile:14: recipe for target 'matrix_multiplication.o' failed\n",
      "make: *** [matrix_multiplication.o] Error 2\n",
      "/bin/sh: 1: ./matrix_multiplication: not found\n"
     ]
    }
   ],
   "source": [
    "! make cuda\n",
    "! ./matrix_multiplication"
   ]
  },
  {
   "cell_type": "code",
   "execution_count": 3,
   "metadata": {
    "collapsed": false
   },
   "outputs": [
    {
     "name": "stdout",
     "output_type": "stream",
     "text": [
      "nvcc -c matrix_multiplication_opt.cu\n",
      "nvcc -o matrix_multiplication_opt matrix_multiplication_opt.o matrix_multiplication_host.o util.o\n",
      "nvlink fatal   : Could not open input file 'matrix_multiplication_host.o'\n",
      "Makefile:23: recipe for target 'cuda_opt' failed\n",
      "make: *** [cuda_opt] Error 1\n",
      "/bin/sh: 1: ./matrix_multiplication_opt: not found\n"
     ]
    }
   ],
   "source": [
    "! make cuda_opt\n",
    "! ./matrix_multiplication_opt"
   ]
  }
 ],
 "metadata": {
  "kernelspec": {
   "display_name": "Python 2",
   "language": "python",
   "name": "python2"
  },
  "language_info": {
   "codemirror_mode": {
    "name": "ipython",
    "version": 2
   },
   "file_extension": ".py",
   "mimetype": "text/x-python",
   "name": "python",
   "nbconvert_exporter": "python",
   "pygments_lexer": "ipython2",
   "version": "2.7.12"
  }
 },
 "nbformat": 4,
 "nbformat_minor": 0
}
