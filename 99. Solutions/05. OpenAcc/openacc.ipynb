{
 "cells": [
  {
   "cell_type": "markdown",
   "metadata": {},
   "source": [
    "# Parallel Computing with Directive Language"
   ]
  },
  {
   "cell_type": "markdown",
   "metadata": {},
   "source": [
    "## SAXPY with OpenMP"
   ]
  },
  {
   "cell_type": "code",
   "execution_count": 1,
   "metadata": {
    "collapsed": false
   },
   "outputs": [
    {
     "name": "stdout",
     "output_type": "stream",
     "text": [
      "Overwriting saxpy_openmp.cc\n"
     ]
    }
   ],
   "source": [
    "%%file saxpy_openmp.cc\n",
    "\n",
    "#include <stdio.h>\n",
    "#include <stdlib.h>\n",
    "\n",
    "void saxpy_parallel(int n, float a, float *x, float *y)\n",
    "{\n",
    "    #pragma omp parallel for\n",
    "    for (int i = 0; i < n; ++i)\n",
    "        y[i] = a*x[i] + y[i];\n",
    "}    \n",
    "\n",
    "int main(int argc, char **argv)\n",
    "{\n",
    "    float *x, *y, tmp;\n",
    "    int n = 1<<16, i;\n",
    "\n",
    "    x = (float*)malloc(n*sizeof(float));\n",
    "    y = (float*)malloc(n*sizeof(float));\n",
    "\n",
    "    #pragma omp parallel for\n",
    "    for( i = 0; i < n; i++)\n",
    "    {\n",
    "        x[i] = 0.5f * i;\n",
    "        y[i] = 0.2f * i;\n",
    "    }\n",
    "\n",
    "    saxpy_parallel(n, 2.0, x, y);\n",
    "\n",
    "    /*\n",
    "    for (i = 0; i < n; ++i) {\n",
    "        printf(\"%f \", y[i]);\n",
    "    }\n",
    "    */\n",
    "    \n",
    "    free(x);\n",
    "    free(y);\n",
    "    \n",
    "    return 0;\n",
    "}"
   ]
  },
  {
   "cell_type": "code",
   "execution_count": 2,
   "metadata": {
    "collapsed": false,
    "scrolled": true
   },
   "outputs": [
    {
     "name": "stdout",
     "output_type": "stream",
     "text": [
      "CPU times: user 0 ns, sys: 0 ns, total: 0 ns\n",
      "Wall time: 3.1 µs\n"
     ]
    }
   ],
   "source": [
    "%time\n",
    "! ./saxpy_openmp"
   ]
  },
  {
   "cell_type": "markdown",
   "metadata": {},
   "source": [
    "## SAXPY with openACC"
   ]
  },
  {
   "cell_type": "code",
   "execution_count": 3,
   "metadata": {
    "collapsed": false
   },
   "outputs": [
    {
     "name": "stdout",
     "output_type": "stream",
     "text": [
      "Overwriting saxpy_openacc.c\n"
     ]
    }
   ],
   "source": [
    "%%file saxpy_openacc.c\n",
    "\n",
    "#include <stdio.h>\n",
    "#include <stdlib.h>\n",
    "\n",
    "void saxpy_parallel(int n, float a, float *x, float *y)\n",
    "{\n",
    "    #pragma acc kernel\n",
    "    for (int i = 0; i < n; ++i)\n",
    "        y[i] = a*x[i] + y[i];\n",
    "}\n",
    "\n",
    "int main(int argc, char **argv)\n",
    "{\n",
    "    float *x, *y, tmp;\n",
    "    int n = 1<<16, i;\n",
    "    \n",
    "    x = (float*)malloc(n*sizeof(float));\n",
    "    y = (float*)malloc(n*sizeof(float));\n",
    "\n",
    "    #pragma acc kernel\n",
    "    for( i = 0; i < n; i++)\n",
    "    {\n",
    "        x[i] = 0.5f * i;\n",
    "        y[i] = 0.2f * i;\n",
    "    }\n",
    "\n",
    "    saxpy_parallel(n, 2.0, x, y);\n",
    "\n",
    "    /*\n",
    "    for (i = 0; i < n; ++i) {\n",
    "        printf(\"%f \", y[i]);\n",
    "    }\n",
    "    */\n",
    "    \n",
    "    return 0;\n",
    "}"
   ]
  },
  {
   "cell_type": "code",
   "execution_count": 4,
   "metadata": {
    "collapsed": false,
    "scrolled": true
   },
   "outputs": [
    {
     "name": "stdout",
     "output_type": "stream",
     "text": [
      "CPU times: user 0 ns, sys: 0 ns, total: 0 ns\n",
      "Wall time: 8.11 µs\n"
     ]
    }
   ],
   "source": [
    "%time\n",
    "! ./saxpy_openacc"
   ]
  },
  {
   "cell_type": "markdown",
   "metadata": {},
   "source": [
    "## Matrix Sum"
   ]
  },
  {
   "cell_type": "code",
   "execution_count": 5,
   "metadata": {
    "collapsed": false
   },
   "outputs": [
    {
     "name": "stdout",
     "output_type": "stream",
     "text": [
      "Overwriting mat_sum_mp.cc\n"
     ]
    }
   ],
   "source": [
    "%%file mat_sum_mp.cc\n",
    "\n",
    "#include <stdio.h>\n",
    "\n",
    "/* matrix-sum-acc.c */\n",
    "#define SIZE 1000\n",
    "float a[SIZE][SIZE];\n",
    "float b[SIZE][SIZE];\n",
    "float c[SIZE][SIZE];\n",
    "\n",
    "int main() {\n",
    "    int i,j,k;\n",
    "\n",
    "    // Initialize matrices.\n",
    "    for (i = 0; i < SIZE; ++i) {\n",
    "      for (j = 0; j < SIZE; ++j) {\n",
    "          a[i][j] = (float)i + j;\n",
    "          b[i][j] = (float)i - j;\n",
    "          c[i][j] = 0.0f;\n",
    "      }\n",
    "    }\n",
    "\n",
    "    // Compute matrix multiply\n",
    "    #pragma omp parallel for\n",
    "    for (i = 0; i < SIZE; ++i) {\n",
    "      for (j = 0; j < SIZE; ++j) {\n",
    "        //for (k = 0; k < SIZE; ++k) {\n",
    "        //  c[i][j] = a[i][k] * b[k][j];\n",
    "        //}\n",
    "        c[i][j] = a[i][j] + b[i][j];\n",
    "      }\n",
    "    }\n",
    "\n",
    "    // Print the result matrix.\n",
    "    /*\n",
    "    for (i = 0; i < SIZE; ++i) {\n",
    "      for (j = 0; j < SIZE; ++j)\n",
    "        printf(\"%f \", c[i][j]);\n",
    "      printf(\"\\n\");\n",
    "    }\n",
    "    */\n",
    "    printf(\"OpenMP matrix sum test was successful!\\n\");\n",
    "\n",
    "    return 0;\n",
    "}"
   ]
  },
  {
   "cell_type": "code",
   "execution_count": 6,
   "metadata": {
    "collapsed": false
   },
   "outputs": [
    {
     "name": "stdout",
     "output_type": "stream",
     "text": [
      "CPU times: user 0 ns, sys: 0 ns, total: 0 ns\n",
      "Wall time: 2.86 µs\n",
      "OpenMP matrix sum test was successful!\r\n"
     ]
    }
   ],
   "source": [
    "%time\n",
    "! ./mat_sum_mp"
   ]
  },
  {
   "cell_type": "code",
   "execution_count": 7,
   "metadata": {
    "collapsed": false
   },
   "outputs": [
    {
     "name": "stdout",
     "output_type": "stream",
     "text": [
      "Overwriting mat_sum_acc.c\n"
     ]
    }
   ],
   "source": [
    "%%file mat_sum_acc.c\n",
    "\n",
    "#include <stdio.h>\n",
    "\n",
    "/* matrix-sum-acc.c */\n",
    "#define SIZE 1000\n",
    "float a[SIZE][SIZE];\n",
    "float b[SIZE][SIZE];\n",
    "float c[SIZE][SIZE];\n",
    "\n",
    "int main() {\n",
    "    int i,j,k;\n",
    "\n",
    "    // Initialize matrices.\n",
    "    for (i = 0; i < SIZE; ++i) {\n",
    "      for (j = 0; j < SIZE; ++j) {\n",
    "          a[i][j] = (float)i + j;\n",
    "          b[i][j] = (float)i - j;\n",
    "          c[i][j] = 0.0f;\n",
    "      }\n",
    "    }\n",
    "\n",
    "    // Compute matrix multiply\n",
    "    #pragma acc kernel\n",
    "    for (i = 0; i < SIZE; ++i) {\n",
    "      for (j = 0; j < SIZE; ++j) {\n",
    "        //for (k = 0; k < SIZE; ++k) {\n",
    "        //  c[i][j] = a[i][k] * b[k][j];\n",
    "        //}\n",
    "        c[i][j] = a[i][j] + b[i][j];\n",
    "      }\n",
    "    }\n",
    "\n",
    "    // Print the result matrix.\n",
    "    /*\n",
    "    for (i = 0; i < SIZE; ++i) {\n",
    "      for (j = 0; j < SIZE; ++j)\n",
    "        printf(\"%f \", c[i][j]);\n",
    "      printf(\"\\n\");\n",
    "    }\n",
    "    */\n",
    "    printf(\"OpenACC matrix sum test was successful!\\n\");\n",
    "\n",
    "    return 0;\n",
    "}"
   ]
  },
  {
   "cell_type": "code",
   "execution_count": 8,
   "metadata": {
    "collapsed": false
   },
   "outputs": [
    {
     "name": "stdout",
     "output_type": "stream",
     "text": [
      "CPU times: user 0 ns, sys: 0 ns, total: 0 ns\n",
      "Wall time: 3.81 µs\n",
      "OpenACC matrix sum test was successful!\r\n"
     ]
    }
   ],
   "source": [
    "%time\n",
    "! ./mat_sum_acc"
   ]
  },
  {
   "cell_type": "markdown",
   "metadata": {
    "collapsed": true
   },
   "source": [
    "### Makefile"
   ]
  },
  {
   "cell_type": "code",
   "execution_count": 9,
   "metadata": {
    "collapsed": false,
    "scrolled": false
   },
   "outputs": [
    {
     "name": "stdout",
     "output_type": "stream",
     "text": [
      "Overwriting Makefile\n"
     ]
    }
   ],
   "source": [
    "%%file Makefile\n",
    "\n",
    "CC=gcc\n",
    "\n",
    "openmp: saxpy_openmp.cc\n",
    "\t$(CC) -fopenmp saxpy_openmp.cc -O3 -o saxpy_openmp\n",
    "\n",
    "openacc: saxpy_openacc.c\n",
    "\t$(CC) saxpy_openacc.c -fopenacc -foffload=nvptx-none -foffload=\"-O3\" -O3 -o saxpy_openacc \n",
    "    \n",
    "sum_mp: mat_sum_mp.cc\n",
    "\t$(CC) -fopenmp mat_sum_mp.cc -O3 -o mat_sum_mp\n",
    "\n",
    "sum_acc: mat_sum_acc.c\n",
    "\t$(CC) mat_sum_acc.c -fopenacc -foffload=nvptx-none -foffload=\"-O3\" -O3 -o mat_sum_acc "
   ]
  }
 ],
 "metadata": {
  "kernelspec": {
   "display_name": "Python 2",
   "language": "python",
   "name": "python2"
  },
  "language_info": {
   "codemirror_mode": {
    "name": "ipython",
    "version": 2
   },
   "file_extension": ".py",
   "mimetype": "text/x-python",
   "name": "python",
   "nbconvert_exporter": "python",
   "pygments_lexer": "ipython2",
   "version": "2.7.12"
  }
 },
 "nbformat": 4,
 "nbformat_minor": 0
}
