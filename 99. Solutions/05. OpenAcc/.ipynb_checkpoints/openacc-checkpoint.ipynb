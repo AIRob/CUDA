{
 "cells": [
  {
   "cell_type": "markdown",
   "metadata": {},
   "source": [
    "# Parallel Computing with Directive Language"
   ]
  },
  {
   "cell_type": "markdown",
   "metadata": {},
   "source": [
    "## SAXPY with OpenMP"
   ]
  },
  {
   "cell_type": "code",
   "execution_count": 31,
   "metadata": {
    "collapsed": false
   },
   "outputs": [
    {
     "name": "stdout",
     "output_type": "stream",
     "text": [
      "Overwriting saxpy_openmp.cc\n"
     ]
    }
   ],
   "source": [
    "%%file saxpy_openmp.cc\n",
    "\n",
    "#include <stdio.h>\n",
    "#include <stdlib.h>\n",
    "\n",
    "void saxpy_parallel(int n, float a, float *x, float *y)\n",
    "{\n",
    "    #pragma omp parallel for\n",
    "    for (int i = 0; i < n; ++i)\n",
    "        y[i] = a*x[i] + y[i];\n",
    "}    \n",
    "\n",
    "int main(int argc, char **argv)\n",
    "{\n",
    "    float *x, *y, tmp;\n",
    "    int n = 1<<6, i;\n",
    "\n",
    "    x = (float*)malloc(n*sizeof(float));\n",
    "    y = (float*)malloc(n*sizeof(float));\n",
    "\n",
    "    #pragma omp parallel for\n",
    "    for( i = 0; i < n; i++)\n",
    "    {\n",
    "        x[i] = 0.5f * i;\n",
    "        y[i] = 0.2f * i;\n",
    "    }\n",
    "\n",
    "    saxpy_parallel(n, 2.0, x, y);\n",
    "\n",
    "    for (i = 0; i < n; ++i) {\n",
    "        printf(\"%f \", y[i]);\n",
    "    }\n",
    "    \n",
    "    free(x);\n",
    "    free(y);\n",
    "    \n",
    "    return 0;\n",
    "}"
   ]
  },
  {
   "cell_type": "code",
   "execution_count": 35,
   "metadata": {
    "collapsed": false,
    "scrolled": true
   },
   "outputs": [
    {
     "name": "stdout",
     "output_type": "stream",
     "text": [
      "0.000000 1.200000 2.400000 3.600000 4.800000 6.000000 7.200000 8.400000 9.600000 10.800000 12.000000 13.200000 14.400000 15.600000 16.799999 18.000000 19.200001 20.400000 21.600000 22.799999 24.000000 25.200001 26.400000 27.600000 28.799999 30.000000 31.200001 32.400002 33.599998 34.799999 36.000000 37.200001 38.400002 39.599998 40.799999 42.000000 43.200001 44.400002 45.599998 46.799999 48.000000 49.200001 50.400002 51.599998 52.799999 54.000000 55.200001 56.400002 57.599998 58.799999 60.000000 61.200001 62.400002 63.599998 64.800003 66.000000 67.199997 68.400002 69.599998 70.800003 72.000000 73.199997 74.400002 75.599998 "
     ]
    }
   ],
   "source": [
    "! ./saxpy_openmp"
   ]
  },
  {
   "cell_type": "markdown",
   "metadata": {},
   "source": [
    "## SAXPY with openACC"
   ]
  },
  {
   "cell_type": "code",
   "execution_count": 24,
   "metadata": {
    "collapsed": false
   },
   "outputs": [
    {
     "name": "stdout",
     "output_type": "stream",
     "text": [
      "Overwriting saxpy_openacc.c\n"
     ]
    }
   ],
   "source": [
    "%%file saxpy_openacc.c\n",
    "\n",
    "#include <stdio.h>\n",
    "#include <stdlib.h>\n",
    "\n",
    "void saxpy_parallel(int n, float a, float *x, float *y)\n",
    "{\n",
    "    #pragma acc kernel\n",
    "    for (int i = 0; i < n; ++i)\n",
    "        y[i] = a*x[i] + y[i];\n",
    "}\n",
    "\n",
    "int main(int argc, char **argv)\n",
    "{\n",
    "    float *x, *y, tmp;\n",
    "    int n = 1<<6, i;\n",
    "    \n",
    "    x = (float*)malloc(n*sizeof(float));\n",
    "    y = (float*)malloc(n*sizeof(float));\n",
    "\n",
    "    #pragma acc kernel\n",
    "    for( i = 0; i < n; i++)\n",
    "    {\n",
    "        x[i] = 0.5f * i;\n",
    "        y[i] = 0.2f * i;\n",
    "    }\n",
    "\n",
    "    saxpy_parallel(n, 2.0, x, y);\n",
    "\n",
    "    for (i = 0; i < n; ++i) {\n",
    "        printf(\"%f \", y[i]);\n",
    "    }\n",
    "    return 0;\n",
    "}"
   ]
  },
  {
   "cell_type": "code",
   "execution_count": 36,
   "metadata": {
    "collapsed": false,
    "scrolled": true
   },
   "outputs": [
    {
     "name": "stdout",
     "output_type": "stream",
     "text": [
      "0.000000 1.200000 2.400000 3.600000 4.800000 6.000000 7.200000 8.400000 9.600000 10.800000 12.000000 13.200000 14.400000 15.600000 16.799999 18.000000 19.200001 20.400000 21.600000 22.799999 24.000000 25.200001 26.400000 27.600000 28.799999 30.000000 31.200001 32.400002 33.599998 34.799999 36.000000 37.200001 38.400002 39.599998 40.799999 42.000000 43.200001 44.400002 45.599998 46.799999 48.000000 49.200001 50.400002 51.599998 52.799999 54.000000 55.200001 56.400002 57.599998 58.799999 60.000000 61.200001 62.400002 63.599998 64.800003 66.000000 67.199997 68.400002 69.599998 70.800003 72.000000 73.199997 74.400002 75.599998 "
     ]
    }
   ],
   "source": [
    "! ./saxpy_openacc"
   ]
  },
  {
   "cell_type": "code",
   "execution_count": 43,
   "metadata": {
    "collapsed": false
   },
   "outputs": [
    {
     "name": "stdout",
     "output_type": "stream",
     "text": [
      "Overwriting Makefile\n"
     ]
    }
   ],
   "source": [
    "%%file Makefile\n",
    "\n",
    "CC=gcc\n",
    "\n",
    "openmp: saxpy_openmp.cc\n",
    "\t$(CC) -fopenmp saxpy_openmp.cc -O3 -o saxpy_openmp\n",
    "\n",
    "openacc: saxpy_openacc.c\n",
    "\t$(CC) saxpy_openacc.c -fopenacc -foffload=nvptx-none -foffload=\"-O3\" -O3 -o saxpy_openacc \n",
    "    \n",
    "sum_mp: mat_sum_mp.cc\n",
    "\t$(CC) -fopenmp mat_sum_mp.cc -O3 -o mat_sum_mp\n",
    "\n",
    "sum_acc: mat_sum_acc.c\n",
    "\t$(CC) mat_sum_acc.c -fopenacc -foffload=nvptx-none -foffload=\"-O3\" -O3 -o mat_sum_acc "
   ]
  },
  {
   "cell_type": "markdown",
   "metadata": {},
   "source": [
    "## Matrix Sum"
   ]
  },
  {
   "cell_type": "code",
   "execution_count": 44,
   "metadata": {
    "collapsed": false
   },
   "outputs": [
    {
     "name": "stdout",
     "output_type": "stream",
     "text": [
      "Writing mat_sum_mp.cc\n"
     ]
    }
   ],
   "source": [
    "%%file mat_sum_mp.cc\n",
    "\n",
    "#include <stdio.h>\n",
    "\n",
    "/* matrix-sum-acc.c */\n",
    "#define SIZE 200\n",
    "float a[SIZE][SIZE];\n",
    "float b[SIZE][SIZE];\n",
    "float c[SIZE][SIZE];\n",
    "\n",
    "int main() {\n",
    "    int i,j,k;\n",
    "\n",
    "    // Initialize matrices.\n",
    "    for (i = 0; i < SIZE; ++i) {\n",
    "      for (j = 0; j < SIZE; ++j) {\n",
    "          a[i][j] = (float)i + j;\n",
    "          b[i][j] = (float)i - j;\n",
    "          c[i][j] = 0.0f;\n",
    "      }\n",
    "    }\n",
    "\n",
    "    // Compute matrix multiply\n",
    "    #pragma omp parallel for\n",
    "    for (i = 0; i < SIZE; ++i) {\n",
    "      for (j = 0; j < SIZE; ++j) {\n",
    "        //for (k = 0; k < SIZE; ++k) {\n",
    "        //  c[i][j] = a[i][k] * b[k][j];\n",
    "        //}\n",
    "        c[i][j] = a[i][j] + b[i][j];\n",
    "      }\n",
    "    }\n",
    "\n",
    "    // Print the result matrix.\n",
    "    /*\n",
    "    for (i = 0; i < SIZE; ++i) {\n",
    "      for (j = 0; j < SIZE; ++j)\n",
    "        printf(\"%f \", c[i][j]);\n",
    "      printf(\"\\n\");\n",
    "    }\n",
    "    */\n",
    "    printf(\"OpenMP matrix sum test was successful!\\n\");\n",
    "\n",
    "    return 0;\n",
    "}"
   ]
  },
  {
   "cell_type": "code",
   "execution_count": 42,
   "metadata": {
    "collapsed": false
   },
   "outputs": [
    {
     "name": "stdout",
     "output_type": "stream",
     "text": [
      "Writing mat_sum_acc.c\n"
     ]
    }
   ],
   "source": [
    "%%file mat_sum_acc.c\n",
    "\n",
    "#include <stdio.h>\n",
    "\n",
    "/* matrix-sum-acc.c */\n",
    "#define SIZE 1000\n",
    "float a[SIZE][SIZE];\n",
    "float b[SIZE][SIZE];\n",
    "float c[SIZE][SIZE];\n",
    "\n",
    "int main() {\n",
    "    int i,j,k;\n",
    "\n",
    "    // Initialize matrices.\n",
    "    for (i = 0; i < SIZE; ++i) {\n",
    "      for (j = 0; j < SIZE; ++j) {\n",
    "          a[i][j] = (float)i + j;\n",
    "          b[i][j] = (float)i - j;\n",
    "          c[i][j] = 0.0f;\n",
    "      }\n",
    "    }\n",
    "\n",
    "    // Compute matrix multiply\n",
    "    #pragma acc kernel\n",
    "    for (i = 0; i < SIZE; ++i) {\n",
    "      for (j = 0; j < SIZE; ++j) {\n",
    "        //for (k = 0; k < SIZE; ++k) {\n",
    "        //  c[i][j] = a[i][k] * b[k][j];\n",
    "        //}\n",
    "        c[i][j] = a[i][j] + b[i][j];\n",
    "      }\n",
    "    }\n",
    "\n",
    "    // Print the result matrix.\n",
    "    /*\n",
    "    for (i = 0; i < SIZE; ++i) {\n",
    "      for (j = 0; j < SIZE; ++j)\n",
    "        printf(\"%f \", c[i][j]);\n",
    "      printf(\"\\n\");\n",
    "    }\n",
    "    */\n",
    "    printf(\"OpenACC matrix sum test was successful!\\n\");\n",
    "\n",
    "    return 0;\n",
    "}"
   ]
  },
  {
   "cell_type": "code",
   "execution_count": null,
   "metadata": {
    "collapsed": true
   },
   "outputs": [],
   "source": []
  }
 ],
 "metadata": {
  "kernelspec": {
   "display_name": "Python 2",
   "language": "python",
   "name": "python2"
  },
  "language_info": {
   "codemirror_mode": {
    "name": "ipython",
    "version": 2
   },
   "file_extension": ".py",
   "mimetype": "text/x-python",
   "name": "python",
   "nbconvert_exporter": "python",
   "pygments_lexer": "ipython2",
   "version": "2.7.12"
  }
 },
 "nbformat": 4,
 "nbformat_minor": 0
}
