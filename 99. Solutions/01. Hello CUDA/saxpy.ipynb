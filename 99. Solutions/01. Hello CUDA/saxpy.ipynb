{
 "cells": [
  {
   "cell_type": "markdown",
   "metadata": {},
   "source": [
    "# SAXPY Example"
   ]
  },
  {
   "cell_type": "markdown",
   "metadata": {},
   "source": [
    "$$ y = ax + y $$\n",
    "위 연산에 대하여 벡터 계산"
   ]
  },
  {
   "cell_type": "markdown",
   "metadata": {},
   "source": [
    "## CPU Version"
   ]
  },
  {
   "cell_type": "code",
   "execution_count": null,
   "metadata": {
    "collapsed": false
   },
   "outputs": [],
   "source": [
    "%%file saxpy_cpu.cc\n",
    "\n",
    "#include <stdio.h>\n",
    "#include <stdlib.h>\n",
    "\n",
    "float* get_vector(int n_size, float seed) {\n",
    "    // buffer create\n",
    "    float* p_vector = (float*)malloc(n_size * sizeof(float));\n",
    "    \n",
    "    // initialize vector\n",
    "    for (int i = 0; i < n_size; i++) {\n",
    "        p_vector[i] = seed * i;\n",
    "    }\n",
    "    \n",
    "    return p_vector;\n",
    "}\n",
    "\n",
    "void print_vector(float* p_vector, int n_size) {\n",
    "    for (int j = 0; j < n_size / 10; j++) {\n",
    "        for (int i = 0; i < 10; i++) {\n",
    "            printf(\"%3.2f \", p_vector[10*j + i]);\n",
    "        }\n",
    "        printf(\"\\n\");\n",
    "    }\n",
    "}\n",
    "\n",
    "// y = ax + y 연산\n",
    "void saxpy(float* py, float* px, float alpha, int n_size) {\n",
    "    for (int i = 0; i < n_size; i++) {\n",
    "        py[i] = alpha * px[i] + py[i];\n",
    "    }\n",
    "}\n",
    "\n",
    "int main() {\n",
    "    float *px, *py;\n",
    "    int n_size = 65536;\n",
    "    \n",
    "    px = get_vector(n_size, 0.01);\n",
    "    py = get_vector(n_size, 0.05);\n",
    "    \n",
    "    printf(\"X\\n\");\n",
    "    print_vector(px, 100);\n",
    "    printf(\"Y\\n\");\n",
    "    print_vector(py, 100);\n",
    "    \n",
    "    saxpy(py, px, 2.0, n_size);\n",
    "    \n",
    "    printf(\"saxpy:: y = ax + y\\n\");\n",
    "    print_vector(py, 100);\n",
    "    \n",
    "    free(px);\n",
    "    free(py);\n",
    "    \n",
    "    return 0;\n",
    "}\n"
   ]
  },
  {
   "cell_type": "markdown",
   "metadata": {},
   "source": [
    "### Compile 및 실행"
   ]
  },
  {
   "cell_type": "code",
   "execution_count": null,
   "metadata": {
    "collapsed": false,
    "scrolled": false
   },
   "outputs": [],
   "source": [
    "! make cpu\n",
    "! ./saxpy_cpu"
   ]
  },
  {
   "cell_type": "markdown",
   "metadata": {
    "collapsed": true
   },
   "source": [
    "## GPU Version"
   ]
  },
  {
   "cell_type": "code",
   "execution_count": null,
   "metadata": {
    "collapsed": false
   },
   "outputs": [],
   "source": [
    "%%file saxpy_gpu.cu\n",
    "\n",
    "#include <stdio.h>\n",
    "#include <stdlib.h>\n",
    "#include <cuda.h>\n",
    "\n",
    "float* get_vector(int n_size, float seed = 0.0) {\n",
    "    // buffer create\n",
    "    float* p_vector = (float*)malloc(n_size * sizeof(float));\n",
    "    \n",
    "    // initialize vector\n",
    "    if (seed != 0.0) {\n",
    "        for (int i = 0; i < n_size; i++) {\n",
    "            p_vector[i] = seed * i;\n",
    "        }\n",
    "    }\n",
    "    \n",
    "    return p_vector;\n",
    "}\n",
    "\n",
    "void check_result(float* py, float* py_cuda, int n_size) {\n",
    "    float compare = 0.0;\n",
    "    for (int i = 0; i < n_size; i++) {\n",
    "        compare += py[i] - py_cuda[i];\n",
    "    }\n",
    "    printf(\"Result: %f\\n\", compare);\n",
    "}\n",
    "\n",
    "// CPU 연산\n",
    "void saxpy(float* py, float* px, float alpha, int n_size) {\n",
    "    for (int i = 0; i < n_size; i++) {\n",
    "        py[i] = alpha * px[i] + py[i];\n",
    "    }\n",
    "}\n",
    "\n",
    "// CUDA Kernel function\n",
    "__global__ \n",
    "void d_saxpy(float* d_y, float* d_x, float alpha, int n_size) {\n",
    "    int idx = blockDim.x * blockIdx.x + threadIdx.x;\n",
    "    \n",
    "    d_y[idx] = alpha * d_x[idx] + d_y[idx];\n",
    "}\n",
    "\n",
    "int main() {\n",
    "    float *px, *py, *py_cuda;\n",
    "    int n_size = 65536;\n",
    "    \n",
    "    px = get_vector(n_size, 0.01);\n",
    "    py = get_vector(n_size, 0.05);\n",
    "    py_cuda = get_vector(n_size);\n",
    "    \n",
    "    // Step 1. Create GPU memory\n",
    "    float *d_x, *d_y;\n",
    "    cudaMalloc((void**)&d_x, n_size * sizeof(float));\n",
    "    cudaMalloc((void**)&d_y, n_size * sizeof(float));\n",
    "    \n",
    "    // Step 2. Copy to GPU memory\n",
    "    cudaMemcpy(d_x, px, n_size * sizeof(float), cudaMemcpyHostToDevice);\n",
    "    cudaMemcpy(d_y, py, n_size * sizeof(float), cudaMemcpyHostToDevice);\n",
    "    \n",
    "    // Step 3. Kernel Call\n",
    "    saxpy(py, px, 2.0, n_size);\n",
    "    \n",
    "    dim3 blockDim(16);\n",
    "    dim3 gridDim((n_size + blockDim.x - 1) / blockDim.x);\n",
    "    d_saxpy<<< gridDim, blockDim >>>(d_y, d_x, 2.0, n_size);\n",
    "\n",
    "    // Step 4. Copy from GPU\n",
    "    cudaMemcpy(py_cuda, d_y, n_size * sizeof(float), cudaMemcpyDeviceToHost);\n",
    "\n",
    "    // Step 5. Check Result\n",
    "    check_result(py, py_cuda, n_size);\n",
    "    \n",
    "    // Step 6. Finalize GPU memory\n",
    "    cudaFree(d_x);\n",
    "    cudaFree(d_y);\n",
    "    \n",
    "    free(px);\n",
    "    free(py);\n",
    "    free(py_cuda);\n",
    "    \n",
    "    return 0;\n",
    "}\n"
   ]
  },
  {
   "cell_type": "markdown",
   "metadata": {},
   "source": [
    "### Compile 및 실행"
   ]
  },
  {
   "cell_type": "code",
   "execution_count": null,
   "metadata": {
    "collapsed": false
   },
   "outputs": [],
   "source": [
    "! make gpu\n",
    "! ./saxpy_gpu"
   ]
  },
  {
   "cell_type": "markdown",
   "metadata": {},
   "source": [
    "## SAXPY 2D"
   ]
  },
  {
   "cell_type": "code",
   "execution_count": null,
   "metadata": {
    "collapsed": false
   },
   "outputs": [],
   "source": [
    "%%file saxpy_gpu_2d.cu\n",
    "\n",
    "#include <stdio.h>\n",
    "#include <stdlib.h>\n",
    "#include <cuda.h>\n",
    "\n",
    "float* get_buffer(int n_size, float seed = 0.0) {\n",
    "    // buffer create\n",
    "    float* p_vector = (float*)malloc(n_size * sizeof(float));\n",
    "    \n",
    "    // initialize vector\n",
    "    if (seed != 0.0) {\n",
    "        for (int i = 0; i < n_size; i++) {\n",
    "            p_vector[i] = seed * i;\n",
    "        }\n",
    "    }\n",
    "    \n",
    "    return p_vector;\n",
    "}\n",
    "\n",
    "void print_buffer(float* p_buffer, int n_size) {\n",
    "    for (int j = 0; j < n_size / 10; j++) {\n",
    "        for (int i = 0; i < 10; i++) {\n",
    "            printf(\"%3.2f \", p_buffer[10*j + i]);\n",
    "        }\n",
    "        printf(\"\\n\");\n",
    "    }\n",
    "}\n",
    "\n",
    "void check_result(float* py, float* py_cuda, int n_width, int n_height) {\n",
    "    float compare = 0.0;\n",
    "    for (int j = 0; j < n_width; j++) {\n",
    "        for (int i = 0; i < n_height; i++) {\n",
    "            compare += py[j * n_width + i] - py_cuda[j * n_width + i];\n",
    "        }\n",
    "    }\n",
    "    printf(\"Result: %f\\n\", compare);\n",
    "}\n",
    "\n",
    "/* CPU function */\n",
    "void saxpy(float* py, float* px, float alpha, int n_width, int n_height) {\n",
    "    for (int j = 0; j < n_height; j++) {\n",
    "        for (int i = 0; i < n_width; i++) {\n",
    "            py[n_height * j + i] = alpha * px[n_height * j + i] + py[n_height * j + i];\n",
    "        }\n",
    "    }\n",
    "}\n",
    "\n",
    "/* CUDA Kernel function */\n",
    "__global__ \n",
    "void d_saxpy(float* d_y, float* d_x, float alpha, int n_width, int n_height) {\n",
    "    int idx_x = blockDim.x * blockIdx.x + threadIdx.x; \n",
    "    int idx_y = blockDim.y * blockIdx.y + threadIdx.y;\n",
    "    \n",
    "    int idx = n_width * idx_y + idx_x;\n",
    "\n",
    "    d_y[idx] = alpha * d_x[idx] + d_y[idx];\n",
    "}\n",
    "\n",
    "int main() {\n",
    "    float *px, *py, *py_cuda;\n",
    "    int n_width = 256;\n",
    "    int n_height = 256;\n",
    "    \n",
    "    px = get_buffer(n_width * n_height, 0.01);\n",
    "    py = get_buffer(n_width * n_height, 0.05);\n",
    "    py_cuda = get_buffer(n_width * n_height);\n",
    "        \n",
    "    // Step 1. Create GPU memory\n",
    "    float *d_x, *d_y;\n",
    "    cudaMalloc((void**)&d_x, n_width * n_height * sizeof(float));\n",
    "    cudaMalloc((void**)&d_y, n_width * n_height * sizeof(float));\n",
    "    \n",
    "    // Step 2. Copy to GPU memory\n",
    "    cudaMemcpy(d_x, px, n_width * n_height * sizeof(float), cudaMemcpyHostToDevice);\n",
    "    cudaMemcpy(d_y, py, n_width * n_height * sizeof(float), cudaMemcpyHostToDevice);\n",
    "    \n",
    "    // Step 3. Kernel Call\n",
    "    saxpy(py, px, 2.0, n_width, n_height);\n",
    "    \n",
    "    dim3 blockDim(256);\n",
    "    dim3 gridDim((n_width * n_height + blockDim.x - 1) / blockDim.x);\n",
    "    d_saxpy<<< gridDim, blockDim >>>(d_y, d_x, 2.0, n_width, n_height);\n",
    "\n",
    "    // Step 4. Copy from GPU\n",
    "    cudaMemcpy(py_cuda, d_y, n_width * n_height * sizeof(float), cudaMemcpyDeviceToHost);\n",
    "\n",
    "    // Step 5. Compare CPU & GPU result\n",
    "    check_result(py, py_cuda, n_width, n_height);\n",
    "    \n",
    "    // Step 6. Finalize GPU memory\n",
    "    cudaFree(d_x);\n",
    "    cudaFree(d_y);\n",
    "    \n",
    "    free(px);\n",
    "    free(py);\n",
    "    free(py_cuda);\n",
    "    \n",
    "    return 0;\n",
    "}\n"
   ]
  },
  {
   "cell_type": "markdown",
   "metadata": {},
   "source": [
    "### Compile 및 실행"
   ]
  },
  {
   "cell_type": "code",
   "execution_count": null,
   "metadata": {
    "collapsed": false
   },
   "outputs": [],
   "source": [
    "! make gpu_2d\n",
    "! ./saxpy_gpu_2d"
   ]
  }
 ],
 "metadata": {
  "kernelspec": {
   "display_name": "Python 2",
   "language": "python",
   "name": "python2"
  },
  "language_info": {
   "codemirror_mode": {
    "name": "ipython",
    "version": 2
   },
   "file_extension": ".py",
   "mimetype": "text/x-python",
   "name": "python",
   "nbconvert_exporter": "python",
   "pygments_lexer": "ipython2",
   "version": "2.7.12"
  }
 },
 "nbformat": 4,
 "nbformat_minor": 0
}
